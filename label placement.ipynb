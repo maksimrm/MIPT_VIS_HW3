{
 "cells": [
  {
   "cell_type": "markdown",
   "metadata": {},
   "source": [
    "# Задание 3: расположение меток/подписей (label placement) "
   ]
  },
  {
   "cell_type": "markdown",
   "metadata": {},
   "source": [
    "## Постановка задачи\n",
    "\n",
    "**Входные данные:**\n",
    "\n",
    "Файл, в каждой строчке которого закодировано положение точки, размер метки и набор возможных положений метки. Закодировано это следующим образом, POINT_X,POINT_Y\\tLABEL_SIZE_X,LABEL_SIZE_Y\\tFIRST_VARIANT_X,FIRST_VARIANT_Y SECOND_VARIANT_X,SECOND_VARIANT_Y ...\n",
    "\n",
    "Количество вариантов для каждой точки не ограничено.\n",
    "\n",
    "Необходимо отрисовать все точки с метками без пересечения этих меток.\n",
    "\n",
    "## Метод решения\n",
    "\n",
    "Сведем задачу к поиску максимальной клики в графе. Для этого закодируем для каждой точки и каждого варианта расположения метки вершину в графе с лейблом `{point_number}__{variant_number}`. Ребра между вершинами будим проводить только если эти вершины соответсвуют разным точкам и метки для данных вариантов не пересекаются.\n",
    "\n",
    "После того как граф построен нам нужно найти в нем максимальный полносвязный подграф. Если размер этого подграфа равен количеству точек, значит расположение без пересечений возможно, иначе нет.\n",
    "\n",
    "Для ускорения процедуры нахождения максимального подграфа можно из графа выкинуть все вершины соответсвующие точкам с вариантом метки таким, что она ни с кем не пересекается. Это очень часто позволяет ускорить процесс нахождения максимальной клики."
   ]
  },
  {
   "cell_type": "code",
   "execution_count": 55,
   "metadata": {},
   "outputs": [],
   "source": [
    "import numpy as np\n",
    "from matplotlib import pyplot as plt\n",
    "import matplotlib.patches as patches\n",
    "from collections import defaultdict\n",
    "from tqdm.auto import tqdm\n",
    "from networkx.algorithms.clique import find_cliques as maximal_cliques\n",
    "from networkx.algorithms.clique import find_cliques_recursive \n",
    "import networkx as nx\n",
    "import time\n",
    "import datetime\n",
    "from itertools import combinations"
   ]
  },
  {
   "cell_type": "code",
   "execution_count": 118,
   "metadata": {},
   "outputs": [],
   "source": [
    "def read_file(file_name):\n",
    "    points = []\n",
    "    with open(file_name, \"r\") as f:\n",
    "        for line in f.read().split(\"\\n\"):\n",
    "            cur_point = {}\n",
    "            pos, size, possible = line.split(\"\\t\")\n",
    "            cur_point[\"x\"] = int(pos.split(\",\")[0])\n",
    "            cur_point[\"y\"] = int(pos.split(\",\")[1])\n",
    "            cur_point[\"size_x\"] = int(size.split(\",\")[0])\n",
    "            cur_point[\"size_y\"] = int(size.split(\",\")[1])\n",
    "            cur_point[\"variants\"] = []\n",
    "            for version in possible.split(\" \"):\n",
    "                cur_point[\"variants\"].append([int(version.split(\",\")[0]), int(version.split(\",\")[1])])\n",
    "            points.append(cur_point)\n",
    "    return points\n",
    "\n",
    "def point_in_rectangular(x_min, x_max, y_min, y_max, x, y):\n",
    "    return (x < x_max) and (x > x_min) and (y < y_max) and (y > y_min)\n",
    "\n",
    "def rectangular_have_intersection_with_rectangular(x_min, x_max, y_min, y_max, \n",
    "                                                   x2_min, x2_max, y2_min, y2_max):\n",
    "    \n",
    "    if (x_max<x2_min or x2_max<x_min or y_max<y2_min or y2_max<y_min):\n",
    "        return False\n",
    "    else:\n",
    "        return True\n",
    "    \n",
    "\n",
    "def build_graph(points):\n",
    "    n = len(points)\n",
    "\n",
    "    G = nx.Graph()\n",
    "    all_possible = []\n",
    "    banned_variants = []\n",
    "    \n",
    "    for i in tqdm(range(n)):\n",
    "        for ver_i, version in enumerate(points[i][\"variants\"]): \n",
    "            x_min = points[i][\"x\"] - version[0]\n",
    "            x_max = x_min + points[i][\"size_x\"]\n",
    "            \n",
    "            y_min = points[i][\"y\"] - version[1]\n",
    "            y_max = y_min + points[i][\"size_y\"]\n",
    "            G.add_node(str(i) + \"__\" + str(ver_i))\n",
    "            \n",
    "            for j in range(i + 1, n):\n",
    "                \n",
    "                if point_in_rectangular(x_min, x_max, y_min, y_max, points[j][\"x\"], points[j][\"y\"]):\n",
    "                    banned_variants.append(str(i) + \"__\" + str(ver_i))\n",
    "                    for ver_j in range(len(points[j][\"variants\"])):\n",
    "                        banned_variants.append(str(j) + \"__\" + str(ver_j)) \n",
    "                else:\n",
    "                    for ver_j, version_second in enumerate(points[j][\"variants\"]):\n",
    "                        G.add_node(str(j) + \"__\" + str(ver_j))\n",
    "                        \n",
    "                        j_x_min = points[j][\"x\"] - version_second[0]\n",
    "                        j_x_max = j_x_min + points[j][\"size_x\"]\n",
    "\n",
    "                        j_y_min = points[j][\"y\"] - version_second[1]\n",
    "                        j_y_max = j_y_min + points[j][\"size_y\"]\n",
    "                        \n",
    "                        if rectangular_have_intersection_with_rectangular(x_min, x_max, y_min, y_max, \n",
    "                                                   j_x_min, j_x_max, j_y_min, j_y_max):\n",
    "                        \n",
    "                            banned_variants.append(str(i) + \"__\" + str(ver_i))\n",
    "                            banned_variants.append(str(j) + \"__\" + str(ver_j))\n",
    "                        else:\n",
    "                            G.add_edge(str(i) + \"__\" + str(ver_i), str(j) + \"__\" + str(ver_j))\n",
    "            if (str(i) + \"__\" + str(ver_i)) not in banned_variants:\n",
    "                all_possible.append(str(i) + \"__\" + str(ver_i))\n",
    "                for k in range(len(points[i][\"variants\"])):\n",
    "                    if (str(i) + \"__\" + str(k)) in G.nodes:\n",
    "                        G.remove_node(str(i) + \"__\" + str(k))\n",
    "                break\n",
    "                            \n",
    "    return G, all_possible\n",
    "\n",
    "def plot_points(points, versions):\n",
    "    \n",
    "    dots_x = []\n",
    "    dots_y = []\n",
    "    \n",
    "    for point in points:\n",
    "        dots_x.append(point[\"x\"])\n",
    "        dots_y.append(point[\"y\"])\n",
    "    \n",
    "    fig, ax = plt.subplots(figsize = (15, 10))\n",
    "    ax.plot(dots_x, dots_y, \"o\")\n",
    "    \n",
    "    for iterator, (point, version) in enumerate(zip(points, versions)):\n",
    "        \n",
    "        rect = patches.Rectangle((point[\"x\"] - point[\"variants\"][version][0], \n",
    "                                  point[\"y\"] - point[\"variants\"][version][1]), \n",
    "                                 point[\"size_x\"], point[\"size_y\"], \n",
    "                                 linewidth=1, \n",
    "                                 edgecolor='r', \n",
    "                                 facecolor='none')\n",
    "        ax.add_patch(rect)\n",
    "    plt.show()\n",
    "\n",
    "def find_version(points):\n",
    "    G, all_possible = build_graph(points)\n",
    "    \n",
    "    result = []\n",
    "    max_clique_size = 0\n",
    "    \n",
    "    graph_degree_dict = defaultdict(int)\n",
    "\n",
    "    for key, value in G.degree:\n",
    "        i = int(key.split(\"__\")[0])\n",
    "        graph_degree_dict[i] += value\n",
    "\n",
    "    for key, val in graph_degree_dict.items():\n",
    "        if val == 0:\n",
    "            print(\"It's impossible!\")\n",
    "            return None\n",
    "\n",
    "    for item in maximal_cliques(G):\n",
    "        if len(item) > max_clique_size:\n",
    "            max_clique_size = len(item)\n",
    "            result = item\n",
    "            if len(points) == len(item) + len(all_possible):\n",
    "                break\n",
    "    \n",
    "    if len(points) != len(result) + len(all_possible):\n",
    "        print(\"It's impossible!\")\n",
    "        return None\n",
    "    \n",
    "    final_result = result + all_possible\n",
    "    \n",
    "    final_version = [0 for _ in range(len(points))]\n",
    "\n",
    "    for item in final_result:\n",
    "        i, ver = item.split(\"__\")\n",
    "\n",
    "        final_version[int(i)] = int(ver)\n",
    "\n",
    "    return final_version\n",
    "    "
   ]
  },
  {
   "cell_type": "markdown",
   "metadata": {},
   "source": [
    "# Example"
   ]
  },
  {
   "cell_type": "code",
   "execution_count": 119,
   "metadata": {},
   "outputs": [],
   "source": [
    "points = [\n",
    "    {'x': 185,\n",
    "     'y': 145,\n",
    "     'size_x': 28,\n",
    "     'size_y': 16,\n",
    "     'variants': [[0, 0], [28, 0]]},\n",
    "    {'x': 130,\n",
    "     'y': 49,\n",
    "     'size_x': 45,\n",
    "     'size_y': 15,\n",
    "     'variants': [[0, 0], [45, 0]]},\n",
    "    {'x': 116,\n",
    "     'y': 109,\n",
    "     'size_x': 48,\n",
    "     'size_y': 17,\n",
    "     'variants': [[24, 17], [48, 0]]},\n",
    "    {'x': 36,\n",
    "     'y': 178,\n",
    "     'size_x': 27,\n",
    "     'size_y': 46,\n",
    "     'variants': [[0, 0], [27, 46]]},\n",
    "]"
   ]
  },
  {
   "cell_type": "code",
   "execution_count": 120,
   "metadata": {},
   "outputs": [
    {
     "name": "stdout",
     "output_type": "stream",
     "text": [
      "Всего 1.600*10^1 вариантов\n"
     ]
    }
   ],
   "source": [
    "all_variants = 1\n",
    "for point in points:\n",
    "    all_variants *= len(point[\"variants\"])\n",
    "\n",
    "degree = 0\n",
    "while all_variants > 10:\n",
    "    all_variants /= 10\n",
    "    degree += 1\n",
    "print(\"Всего {:.3f}*10^{} вариантов\".format(all_variants, degree))"
   ]
  },
  {
   "cell_type": "code",
   "execution_count": 121,
   "metadata": {},
   "outputs": [
    {
     "data": {
      "application/vnd.jupyter.widget-view+json": {
       "model_id": "158be6b36c404602840de5c3c38a4eae",
       "version_major": 2,
       "version_minor": 0
      },
      "text/plain": [
       "HBox(children=(FloatProgress(value=0.0, max=4.0), HTML(value='')))"
      ]
     },
     "metadata": {},
     "output_type": "display_data"
    },
    {
     "name": "stdout",
     "output_type": "stream",
     "text": [
      "\n",
      "Running time: 0:00:00.018379\n"
     ]
    }
   ],
   "source": [
    "start_time = time.perf_counter()\n",
    "version = find_version(points)\n",
    "print(\"Running time: \" + str(datetime.timedelta(seconds=time.perf_counter() - start_time)))"
   ]
  },
  {
   "cell_type": "code",
   "execution_count": 122,
   "metadata": {},
   "outputs": [
    {
     "data": {
      "image/png": "[encoded data removed]",
      "text/plain": [
       "<Figure size 1080x720 with 1 Axes>"
      ]
     },
     "metadata": {
      "needs_background": "light"
     },
     "output_type": "display_data"
    }
   ],
   "source": [
    "plot_points(points, version)"
   ]
  },
  {
   "cell_type": "markdown",
   "metadata": {},
   "source": [
    "# Hard1"
   ]
  },
  {
   "cell_type": "code",
   "execution_count": 97,
   "metadata": {},
   "outputs": [],
   "source": [
    "points = read_file(\"hard1.txt\") ## Download points from file"
   ]
  },
  {
   "cell_type": "code",
   "execution_count": 98,
   "metadata": {},
   "outputs": [
    {
     "name": "stdout",
     "output_type": "stream",
     "text": [
      "Всего 1.351*10^16 вариантов\n"
     ]
    }
   ],
   "source": [
    "all_variants = 1\n",
    "for point in points:\n",
    "    all_variants *= len(point[\"variants\"])\n",
    "\n",
    "degree = 0\n",
    "while all_variants > 10:\n",
    "    all_variants /= 10\n",
    "    degree += 1\n",
    "print(\"Всего {:.3f}*10^{} вариантов\".format(all_variants, degree))"
   ]
  },
  {
   "cell_type": "code",
   "execution_count": 45,
   "metadata": {},
   "outputs": [
    {
     "data": {
      "application/vnd.jupyter.widget-view+json": {
       "model_id": "5c4c69b2dd214f3eaaa77a745fe75dae",
       "version_major": 2,
       "version_minor": 0
      },
      "text/plain": [
       "HBox(children=(FloatProgress(value=0.0, max=25.0), HTML(value='')))"
      ]
     },
     "metadata": {},
     "output_type": "display_data"
    },
    {
     "name": "stdout",
     "output_type": "stream",
     "text": [
      "\n",
      "Running time: 0:00:10.891801\n"
     ]
    }
   ],
   "source": [
    "start_time = time.perf_counter()\n",
    "version = find_version(points)\n",
    "print(\"Running time: \" + str(datetime.timedelta(seconds=time.perf_counter() - start_time)))"
   ]
  },
  {
   "cell_type": "code",
   "execution_count": 46,
   "metadata": {},
   "outputs": [
    {
     "data": {
      "image/png": "[encoded data removed]",
      "text/plain": [
       "<Figure size 1080x720 with 1 Axes>"
      ]
     },
     "metadata": {
      "needs_background": "light"
     },
     "output_type": "display_data"
    }
   ],
   "source": [
    "plot_points(points, version)"
   ]
  },
  {
   "cell_type": "markdown",
   "metadata": {},
   "source": [
    "# Hard2"
   ]
  },
  {
   "cell_type": "code",
   "execution_count": 99,
   "metadata": {},
   "outputs": [],
   "source": [
    "points = read_file(\"hard2.txt\")"
   ]
  },
  {
   "cell_type": "code",
   "execution_count": 100,
   "metadata": {},
   "outputs": [
    {
     "name": "stdout",
     "output_type": "stream",
     "text": [
      "Всего 2.850*10^15 вариантов\n"
     ]
    }
   ],
   "source": [
    "all_variants = 1\n",
    "for point in points:\n",
    "    all_variants *= len(point[\"variants\"])\n",
    "\n",
    "degree = 0\n",
    "while all_variants > 10:\n",
    "    all_variants /= 10\n",
    "    degree += 1\n",
    "print(\"Всего {:.3f}*10^{} вариантов\".format(all_variants, degree))"
   ]
  },
  {
   "cell_type": "code",
   "execution_count": 36,
   "metadata": {},
   "outputs": [
    {
     "data": {
      "application/vnd.jupyter.widget-view+json": {
       "model_id": "bad4d939667e4608a54ab0233cb238f2",
       "version_major": 2,
       "version_minor": 0
      },
      "text/plain": [
       "HBox(children=(FloatProgress(value=0.0, max=23.0), HTML(value='')))"
      ]
     },
     "metadata": {},
     "output_type": "display_data"
    },
    {
     "name": "stdout",
     "output_type": "stream",
     "text": [
      "\n",
      "Running time: 0:00:42.377500\n"
     ]
    }
   ],
   "source": [
    "start_time = time.perf_counter()\n",
    "version = find_version(points)\n",
    "print(\"Running time: \" + str(datetime.timedelta(seconds=time.perf_counter() - start_time)))"
   ]
  },
  {
   "cell_type": "code",
   "execution_count": 49,
   "metadata": {
    "scrolled": false
   },
   "outputs": [
    {
     "data": {
      "image/png": "[encoded data removed]",
      "text/plain": [
       "<Figure size 1080x720 with 1 Axes>"
      ]
     },
     "metadata": {
      "needs_background": "light"
     },
     "output_type": "display_data"
    }
   ],
   "source": [
    "plot_points(points, version)"
   ]
  },
  {
   "cell_type": "markdown",
   "metadata": {},
   "source": [
    "# Hard3"
   ]
  },
  {
   "cell_type": "code",
   "execution_count": 101,
   "metadata": {},
   "outputs": [],
   "source": [
    "points = read_file(\"hard3.txt\")"
   ]
  },
  {
   "cell_type": "code",
   "execution_count": 102,
   "metadata": {},
   "outputs": [
    {
     "name": "stdout",
     "output_type": "stream",
     "text": [
      "Всего 2.626*10^19 вариантов\n"
     ]
    }
   ],
   "source": [
    "all_variants = 1\n",
    "for point in points:\n",
    "    all_variants *= len(point[\"variants\"])\n",
    "\n",
    "degree = 0\n",
    "while all_variants > 10:\n",
    "    all_variants /= 10\n",
    "    degree += 1\n",
    "print(\"Всего {:.3f}*10^{} вариантов\".format(all_variants, degree))"
   ]
  },
  {
   "cell_type": "code",
   "execution_count": 39,
   "metadata": {},
   "outputs": [
    {
     "data": {
      "application/vnd.jupyter.widget-view+json": {
       "model_id": "b8953948b7cb49a69b63c1b03c5f1670",
       "version_major": 2,
       "version_minor": 0
      },
      "text/plain": [
       "HBox(children=(FloatProgress(value=0.0, max=28.0), HTML(value='')))"
      ]
     },
     "metadata": {},
     "output_type": "display_data"
    },
    {
     "name": "stdout",
     "output_type": "stream",
     "text": [
      "\n",
      "Running time: 0:01:20.064511\n"
     ]
    }
   ],
   "source": [
    "start_time = time.perf_counter()\n",
    "version = find_version(points)\n",
    "print(\"Running time: \" + str(datetime.timedelta(seconds=time.perf_counter() - start_time)))"
   ]
  },
  {
   "cell_type": "code",
   "execution_count": 40,
   "metadata": {},
   "outputs": [
    {
     "data": {
      "image/png": "[encoded data removed]",
      "text/plain": [
       "<Figure size 1080x720 with 1 Axes>"
      ]
     },
     "metadata": {
      "needs_background": "light"
     },
     "output_type": "display_data"
    }
   ],
   "source": [
    "plot_points(points, version)"
   ]
  },
  {
   "cell_type": "markdown",
   "metadata": {},
   "source": [
    "# Bin1"
   ]
  },
  {
   "cell_type": "code",
   "execution_count": 103,
   "metadata": {},
   "outputs": [],
   "source": [
    "points = read_file(\"bin1.txt\")"
   ]
  },
  {
   "cell_type": "code",
   "execution_count": 104,
   "metadata": {},
   "outputs": [
    {
     "name": "stdout",
     "output_type": "stream",
     "text": [
      "Всего 1.678*10^7 вариантов\n"
     ]
    }
   ],
   "source": [
    "all_variants = 1\n",
    "for point in points:\n",
    "    all_variants *= len(point[\"variants\"])\n",
    "\n",
    "degree = 0\n",
    "while all_variants > 10:\n",
    "    all_variants /= 10\n",
    "    degree += 1\n",
    "print(\"Всего {:.3f}*10^{} вариантов\".format(all_variants, degree))"
   ]
  },
  {
   "cell_type": "code",
   "execution_count": 92,
   "metadata": {},
   "outputs": [
    {
     "data": {
      "application/vnd.jupyter.widget-view+json": {
       "model_id": "a8eebacabab248b88946ac5cd3d5f32b",
       "version_major": 2,
       "version_minor": 0
      },
      "text/plain": [
       "HBox(children=(FloatProgress(value=0.0, max=24.0), HTML(value='')))"
      ]
     },
     "metadata": {},
     "output_type": "display_data"
    },
    {
     "name": "stdout",
     "output_type": "stream",
     "text": [
      "\n",
      "Running time: 0:00:00.022786\n"
     ]
    }
   ],
   "source": [
    "start_time = time.perf_counter()\n",
    "version = find_version(points)\n",
    "print(\"Running time: \" + str(datetime.timedelta(seconds=time.perf_counter() - start_time)))"
   ]
  },
  {
   "cell_type": "code",
   "execution_count": 93,
   "metadata": {},
   "outputs": [
    {
     "data": {
      "image/png": "[encoded data removed]",
      "text/plain": [
       "<Figure size 1080x720 with 1 Axes>"
      ]
     },
     "metadata": {
      "needs_background": "light"
     },
     "output_type": "display_data"
    }
   ],
   "source": [
    "plot_points(points, version)"
   ]
  },
  {
   "cell_type": "markdown",
   "metadata": {},
   "source": [
    "# Bin2"
   ]
  },
  {
   "cell_type": "code",
   "execution_count": 105,
   "metadata": {},
   "outputs": [],
   "source": [
    "points = read_file(\"bin2.txt\")"
   ]
  },
  {
   "cell_type": "code",
   "execution_count": 106,
   "metadata": {},
   "outputs": [
    {
     "name": "stdout",
     "output_type": "stream",
     "text": [
      "Всего 8.389*10^6 вариантов\n"
     ]
    }
   ],
   "source": [
    "all_variants = 1\n",
    "for point in points:\n",
    "    all_variants *= len(point[\"variants\"])\n",
    "\n",
    "degree = 0\n",
    "while all_variants > 10:\n",
    "    all_variants /= 10\n",
    "    degree += 1\n",
    "print(\"Всего {:.3f}*10^{} вариантов\".format(all_variants, degree))"
   ]
  },
  {
   "cell_type": "code",
   "execution_count": 65,
   "metadata": {},
   "outputs": [
    {
     "data": {
      "application/vnd.jupyter.widget-view+json": {
       "model_id": "6307db583f8c497fb00aa487af1936ad",
       "version_major": 2,
       "version_minor": 0
      },
      "text/plain": [
       "HBox(children=(FloatProgress(value=0.0, max=23.0), HTML(value='')))"
      ]
     },
     "metadata": {},
     "output_type": "display_data"
    },
    {
     "name": "stdout",
     "output_type": "stream",
     "text": [
      "\n",
      "Running time: 0:00:00.033887\n"
     ]
    }
   ],
   "source": [
    "start_time = time.perf_counter()\n",
    "version = find_version(points)\n",
    "print(\"Running time: \" + str(datetime.timedelta(seconds=time.perf_counter() - start_time)))"
   ]
  },
  {
   "cell_type": "code",
   "execution_count": 66,
   "metadata": {},
   "outputs": [
    {
     "data": {
      "image/png": "[encoded data removed]",
      "text/plain": [
       "<Figure size 1080x720 with 1 Axes>"
      ]
     },
     "metadata": {
      "needs_background": "light"
     },
     "output_type": "display_data"
    }
   ],
   "source": [
    "plot_points(points, version)"
   ]
  },
  {
   "cell_type": "markdown",
   "metadata": {},
   "source": [
    "# Bin3"
   ]
  },
  {
   "cell_type": "code",
   "execution_count": 107,
   "metadata": {},
   "outputs": [],
   "source": [
    "points = read_file(\"bin3.txt\")"
   ]
  },
  {
   "cell_type": "code",
   "execution_count": 108,
   "metadata": {},
   "outputs": [
    {
     "name": "stdout",
     "output_type": "stream",
     "text": [
      "Всего 2.097*10^6 вариантов\n"
     ]
    }
   ],
   "source": [
    "all_variants = 1\n",
    "for point in points:\n",
    "    all_variants *= len(point[\"variants\"])\n",
    "\n",
    "degree = 0\n",
    "while all_variants > 10:\n",
    "    all_variants /= 10\n",
    "    degree += 1\n",
    "print(\"Всего {:.3f}*10^{} вариантов\".format(all_variants, degree))"
   ]
  },
  {
   "cell_type": "code",
   "execution_count": 69,
   "metadata": {},
   "outputs": [
    {
     "data": {
      "application/vnd.jupyter.widget-view+json": {
       "model_id": "449d339f52ef499aad3a528ccff43b88",
       "version_major": 2,
       "version_minor": 0
      },
      "text/plain": [
       "HBox(children=(FloatProgress(value=0.0, max=21.0), HTML(value='')))"
      ]
     },
     "metadata": {},
     "output_type": "display_data"
    },
    {
     "name": "stdout",
     "output_type": "stream",
     "text": [
      "\n",
      "Running time: 0:00:00.020801\n"
     ]
    }
   ],
   "source": [
    "start_time = time.perf_counter()\n",
    "version = find_version(points)\n",
    "print(\"Running time: \" + str(datetime.timedelta(seconds=time.perf_counter() - start_time)))"
   ]
  },
  {
   "cell_type": "code",
   "execution_count": 70,
   "metadata": {
    "scrolled": false
   },
   "outputs": [
    {
     "data": {
      "image/png": "[encoded data removed]",
      "text/plain": [
       "<Figure size 1080x720 with 1 Axes>"
      ]
     },
     "metadata": {
      "needs_background": "light"
     },
     "output_type": "display_data"
    }
   ],
   "source": [
    "plot_points(points, version)"
   ]
  }
 ],
 "metadata": {
  "kernelspec": {
   "display_name": "Python 3",
   "language": "python",
   "name": "python3"
  },
  "language_info": {
   "codemirror_mode": {
    "name": "ipython",
    "version": 3
   },
   "file_extension": ".py",
   "mimetype": "text/x-python",
   "name": "python",
   "nbconvert_exporter": "python",
   "pygments_lexer": "ipython3",
   "version": "3.8.3"
  }
 },
 "nbformat": 4,
 "nbformat_minor": 4
}
